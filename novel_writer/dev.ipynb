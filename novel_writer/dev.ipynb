{
 "cells": [
  {
   "cell_type": "code",
   "execution_count": 6,
   "metadata": {},
   "outputs": [
    {
     "name": "stdout",
     "output_type": "stream",
     "text": [
      "D:\\CodeBase\\Clara\\chatbot\\novel_writer\\train_data\\shendiaoxialv.txt\n",
      "number of total text 1021857\n",
      "number of total chars 4100\n",
      "\n",
      "------------------------------------------\n",
      "“金庸作品集”新序\n",
      "　　小说是写给人看的。小说的内容是人。\n",
      "　　小说写一个人、几个人、一群人、或成千成万人的性格\n"
     ]
    }
   ],
   "source": [
    "from pathlib import Path\n",
    "\n",
    "dir_prefix = r'D:\\CodeBase\\Clara\\chatbot\\novel_writer'\n",
    "file_name = dir_prefix + r'\\train_data\\shendiaoxialv.txt'\n",
    "file_path = Path(file_name)\n",
    "print(file_path) \n",
    "with open(file_path, 'r', encoding='gbk') as f:\n",
    "    text = f.read()\n",
    "print(f'number of total text {len(text)}')\n",
    "charset = set(text)\n",
    "print(f'number of total chars {len(charset)}')\n",
    "print(text[:100])\n"
   ]
  },
  {
   "cell_type": "code",
   "execution_count": 2,
   "metadata": {},
   "outputs": [],
   "source": [
    "encoded_map = {char:i for i, char in enumerate(charset)}\n",
    "decode_map = {i:char for i, char in enumerate(charset)}\n",
    "encode = lambda input_text: [encoded_map[x] for x in input_text]\n",
    "decode = lambda code: ''.join([decode_map[x] for x in code])\n"
   ]
  },
  {
   "cell_type": "code",
   "execution_count": 7,
   "metadata": {},
   "outputs": [
    {
     "name": "stdout",
     "output_type": "stream",
     "text": [
      "torch.Size([1021857]) torch.int64\n",
      "tensor([ 440,  255,  255,  255,  255,  255,  255,  255,  255,  255,  255,  255,\n",
      "         255,  255,  255,  255,  255,  255,  255,  255,  255,  255,  255,  255,\n",
      "         255,  255,  255,  255,  255,  255,  255,  255,  255,  255,  255,  255,\n",
      "         255,  255,  255,  255,  255,  255,  255,  440, 2522, 1052, 1516,  286,\n",
      "         481, 1246, 2990, 1626, 2957,  440, 3468, 3468, 3763, 4030,  123, 2437,\n",
      "        3848,  947, 4064,  909, 1659, 3763, 4030,  909, 2230, 1423,  123,  947,\n",
      "        1659,  440, 3468, 3468, 3763, 4030, 2437, 1555, 1099,  947,  344,  604,\n",
      "        1099,  947,  344, 1555, 1812,  947,  344, 1358, 2762, 3713, 2762,  823,\n",
      "         947,  909,  563, 2624])\n"
     ]
    }
   ],
   "source": [
    "import torch\n",
    "data = torch.tensor(encode(text), dtype=torch.long)\n",
    "print(data.shape, data.dtype)\n",
    "print(data[:100])"
   ]
  },
  {
   "cell_type": "code",
   "execution_count": 8,
   "metadata": {},
   "outputs": [
    {
     "name": "stdout",
     "output_type": "stream",
     "text": [
      "torch.Size([919671]) torch.Size([102186])\n"
     ]
    }
   ],
   "source": [
    "n = int(0.9 * len(data))\n",
    "train_data = data[:n]\n",
    "val_data = data[n:]\n",
    "print(train_data.shape, val_data.shape)"
   ]
  },
  {
   "cell_type": "code",
   "execution_count": 16,
   "metadata": {},
   "outputs": [
    {
     "name": "stdout",
     "output_type": "stream",
     "text": [
      "input:\n",
      "torch.Size([4, 10])\n",
      "tensor([[2840, 1620, 2981, 1648, 2219, 2122, 2099, 2522,   34,  638],\n",
      "        [2693,  856, 2139, 1297, 1690, 1450, 1648, 1304,  523, 1869],\n",
      "        [ 440, 3468, 3468, 1661, 2711, 4048,  283, 3993, 3081,  429],\n",
      "        [3507, 3192, 3129, 3502, 1648, 1555, 1943, 1922, 1404, 1659]])\n",
      "output\n",
      "torch.Size([4, 10])\n",
      "tensor([[1620, 2981, 1648, 2219, 2122, 2099, 2522,   34,  638,  394],\n",
      "        [ 856, 2139, 1297, 1690, 1450, 1648, 1304,  523, 1869, 1750],\n",
      "        [3468, 3468, 1661, 2711, 4048,  283, 3993, 3081,  429, 1828],\n",
      "        [3192, 3129, 3502, 1648, 1555, 1943, 1922, 1404, 1659, 1732]])\n",
      "input is 宫 output is 房\n",
      "input is 宫房 output is 舍\n",
      "input is 宫房舍 output is ，\n",
      "input is 宫房舍， output is 寻\n",
      "input is 宫房舍，寻 output is 思\n",
      "input is 宫房舍，寻思 output is ：\n",
      "input is 宫房舍，寻思： output is “\n",
      "input is 宫房舍，寻思：“ output is 我\n",
      "input is 宫房舍，寻思：“我 output is 暗\n",
      "input is 宫房舍，寻思：“我暗 output is 中\n",
      "input is 得 output is 自\n",
      "input is 得自 output is 兄\n",
      "input is 得自兄 output is 长\n",
      "input is 得自兄长 output is 亲\n",
      "input is 得自兄长亲 output is 传\n",
      "input is 得自兄长亲传 output is ，\n",
      "input is 得自兄长亲传， output is 虽\n",
      "input is 得自兄长亲传，虽 output is 从\n",
      "input is 得自兄长亲传，虽从 output is 无\n",
      "input is 得自兄长亲传，虽从无 output is 临\n",
      "input is \n",
      " output is 　\n",
      "input is \n",
      "　 output is 　\n",
      "input is \n",
      "　　 output is 国\n",
      "input is \n",
      "　　国 output is 师\n",
      "input is \n",
      "　　国师 output is 见\n",
      "input is \n",
      "　　国师见 output is 他\n",
      "input is \n",
      "　　国师见他 output is 脸\n",
      "input is \n",
      "　　国师见他脸 output is 上\n",
      "input is \n",
      "　　国师见他脸上 output is 微\n",
      "input is \n",
      "　　国师见他脸上微 output is 有\n",
      "input is 双 output is 手\n",
      "input is 双手 output is 连\n",
      "input is 双手连 output is 拍\n",
      "input is 双手连拍 output is ，\n",
      "input is 双手连拍， output is 一\n",
      "input is 双手连拍，一 output is 共\n",
      "input is 双手连拍，一共 output is 八\n",
      "input is 双手连拍，一共八 output is 下\n",
      "input is 双手连拍，一共八下 output is 。\n",
      "input is 双手连拍，一共八下。 output is 谷\n"
     ]
    }
   ],
   "source": [
    "block_size = 10\n",
    "batch_size = 4\n",
    "\n",
    "def get_batch(split:str):\n",
    "    data = train_data if split == 'train' else val_data\n",
    "    train_index = torch.randint(len(data) - block_size - 1, (batch_size,))\n",
    "    x = torch.stack([data[i:i+block_size] for i in train_index])\n",
    "    y = torch.stack([data[i+1:i+block_size+1] for i in train_index])\n",
    "    return x, y\n",
    "\n",
    "input, output = get_batch('train')\n",
    "print('input:')\n",
    "print(input.shape)\n",
    "print(input)\n",
    "\n",
    "print('output')\n",
    "print(output.shape)\n",
    "print(output)\n",
    "\n",
    "for batch in range(batch_size):\n",
    "    for pos in range(block_size):\n",
    "        print(f\"input is {decode(input[batch, :pos + 1].tolist())} output is {decode([output[batch, pos].item()])}\")"
   ]
  }
 ],
 "metadata": {
  "kernelspec": {
   "display_name": ".venv",
   "language": "python",
   "name": "python3"
  },
  "language_info": {
   "codemirror_mode": {
    "name": "ipython",
    "version": 3
   },
   "file_extension": ".py",
   "mimetype": "text/x-python",
   "name": "python",
   "nbconvert_exporter": "python",
   "pygments_lexer": "ipython3",
   "version": "3.12.8"
  }
 },
 "nbformat": 4,
 "nbformat_minor": 2
}
